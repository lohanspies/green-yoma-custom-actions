{
 "cells": [
  {
   "cell_type": "markdown",
   "id": "99a51dde",
   "metadata": {},
   "source": [
    "# Test Map to Image"
   ]
  },
  {
   "cell_type": "code",
   "execution_count": 1,
   "id": "eb84b284",
   "metadata": {},
   "outputs": [],
   "source": [
    "from arcgis.gis import GIS\n",
    "from arcgis.geocoding import geocode, reverse_geocode\n",
    "from arcgis.geometry import lengths\n",
    "from arcgis.gis import GIS\n",
    "from arcgis.mapping import WebMap"
   ]
  },
  {
   "cell_type": "code",
   "execution_count": 2,
   "id": "edb84826",
   "metadata": {},
   "outputs": [],
   "source": [
    "gis = GIS()\n",
    "map1 = gis.map()\n",
    "map1.basemap = \"satellite\"\n",
    "map1.height = '650px'\n",
    "map1.zoom = 14"
   ]
  },
  {
   "cell_type": "code",
   "execution_count": 3,
   "id": "13997592",
   "metadata": {},
   "outputs": [
    {
     "data": {
      "application/vnd.jupyter.widget-view+json": {
       "model_id": "a85b78b2cb83475b8ac2cdbbd848c195",
       "version_major": 2,
       "version_minor": 0
      },
      "text/plain": [
       "MapView(layout=Layout(height='400px', width='100%'))"
      ]
     },
     "metadata": {},
     "output_type": "display_data"
    },
    {
     "data": {
      "text/html": [
       "<div class=\"map-static-img-preview-9b6cc331-c1b4-45e0-9b38-760f442e534e\"><img src=\"\"></img></div>"
      ],
      "text/plain": [
       "<IPython.core.display.HTML object>"
      ]
     },
     "metadata": {},
     "output_type": "display_data"
    },
    {
     "data": {
      "text/html": [
       "<div class=\"map-html-embed-preview-9b6cc331-c1b4-45e0-9b38-760f442e534e\"></div>"
      ],
      "text/plain": [
       "<IPython.core.display.HTML object>"
      ]
     },
     "metadata": {},
     "output_type": "display_data"
    }
   ],
   "source": [
    "map1"
   ]
  },
  {
   "cell_type": "code",
   "execution_count": 4,
   "id": "dbfbc001",
   "metadata": {},
   "outputs": [
    {
     "name": "stdout",
     "output_type": "stream",
     "text": [
      "MapView(layout=Layout(height='400px', width='100%'))\n"
     ]
    }
   ],
   "source": [
    "print(map1)"
   ]
  },
  {
   "cell_type": "code",
   "execution_count": 15,
   "id": "3fe7fb54",
   "metadata": {},
   "outputs": [],
   "source": [
    "locationSearch = \"Cape Town\""
   ]
  },
  {
   "cell_type": "code",
   "execution_count": 16,
   "id": "bdd91d0e",
   "metadata": {},
   "outputs": [],
   "source": [
    "location = geocode(locationSearch)[0]"
   ]
  },
  {
   "cell_type": "code",
   "execution_count": 17,
   "id": "357e6138",
   "metadata": {},
   "outputs": [
    {
     "name": "stdout",
     "output_type": "stream",
     "text": [
      "{'address': 'Cape Town, Western Cape', 'location': {'x': 18.421980000000076, 'y': -33.91908999999998}, 'score': 100, 'attributes': {'Loc_name': 'World', 'Status': 'T', 'Score': 100, 'Match_addr': 'Cape Town, Western Cape', 'LongLabel': 'Cape Town, Western Cape, ZAF', 'ShortLabel': 'Cape Town', 'Addr_type': 'Locality', 'Type': 'City', 'PlaceName': 'Cape Town', 'Place_addr': 'Cape Town, Western Cape', 'Phone': '', 'URL': '', 'Rank': 2, 'AddBldg': '', 'AddNum': '', 'AddNumFrom': '', 'AddNumTo': '', 'AddRange': '', 'Side': '', 'StPreDir': '', 'StPreType': '', 'StName': '', 'StType': '', 'StDir': '', 'BldgType': '', 'BldgName': '', 'LevelType': '', 'LevelName': '', 'UnitType': '', 'UnitName': '', 'SubAddr': '', 'StAddr': '', 'Block': '', 'Sector': '', 'Nbrhd': '', 'District': '', 'City': 'Cape Town', 'MetroArea': '', 'Subregion': 'Cape Town', 'Region': 'Western Cape', 'RegionAbbr': '', 'Territory': '', 'Zone': '', 'Postal': '', 'PostalExt': '', 'Country': 'ZAF', 'LangCode': 'ENG', 'Distance': 0, 'X': 18.421980000000076, 'Y': -33.91908999999998, 'DisplayX': 18.421980000000076, 'DisplayY': -33.91908999999998, 'Xmin': 18.025980000000075, 'Xmax': 18.817980000000077, 'Ymin': -34.315089999999984, 'Ymax': -33.52308999999998, 'ExInfo': ''}, 'extent': {'xmin': 18.025980000000075, 'ymin': -34.315089999999984, 'xmax': 18.817980000000077, 'ymax': -33.52308999999998}}\n"
     ]
    }
   ],
   "source": [
    "print(location)"
   ]
  },
  {
   "cell_type": "code",
   "execution_count": 18,
   "id": "70579cc9",
   "metadata": {},
   "outputs": [
    {
     "data": {
      "text/plain": [
       "{'xmin': 18.025980000000075,\n",
       " 'ymin': -34.315089999999984,\n",
       " 'xmax': 18.817980000000077,\n",
       " 'ymax': -33.52308999999998}"
      ]
     },
     "execution_count": 18,
     "metadata": {},
     "output_type": "execute_result"
    }
   ],
   "source": [
    "location[\"extent\"]"
   ]
  },
  {
   "cell_type": "code",
   "execution_count": 19,
   "id": "f701ca49",
   "metadata": {},
   "outputs": [],
   "source": [
    "map1.extent = location['extent']"
   ]
  },
  {
   "cell_type": "code",
   "execution_count": 20,
   "id": "ed93eb0c",
   "metadata": {},
   "outputs": [
    {
     "name": "stdout",
     "output_type": "stream",
     "text": [
      "MapView(layout=Layout(height='400px', width='100%'))\n"
     ]
    }
   ],
   "source": [
    "print(map1)"
   ]
  },
  {
   "cell_type": "code",
   "execution_count": 23,
   "id": "98c2615e",
   "metadata": {},
   "outputs": [
    {
     "ename": "AttributeError",
     "evalue": "'MapView' object has no attribute 'item'",
     "output_type": "error",
     "traceback": [
      "\u001b[0;31m---------------------------------------------------------------------------\u001b[0m",
      "\u001b[0;31mAttributeError\u001b[0m                            Traceback (most recent call last)",
      "\u001b[0;32m/tmp/ipykernel_15/2222058223.py\u001b[0m in \u001b[0;36m<module>\u001b[0;34m\u001b[0m\n\u001b[0;32m----> 1\u001b[0;31m \u001b[0mwm1\u001b[0m \u001b[0;34m=\u001b[0m \u001b[0mWebMap\u001b[0m\u001b[0;34m(\u001b[0m\u001b[0mmap1\u001b[0m\u001b[0;34m.\u001b[0m\u001b[0mitem\u001b[0m\u001b[0;34m)\u001b[0m\u001b[0;34m\u001b[0m\u001b[0;34m\u001b[0m\u001b[0m\n\u001b[0m",
      "\u001b[0;31mAttributeError\u001b[0m: 'MapView' object has no attribute 'item'"
     ]
    }
   ],
   "source": [
    "wm1 = WebMap(map1.item)"
   ]
  },
  {
   "cell_type": "code",
   "execution_count": 26,
   "id": "0d6014d5",
   "metadata": {},
   "outputs": [
    {
     "ename": "RuntimeError",
     "evalue": "title, snippet and tags are required in item_properties dictionary",
     "output_type": "error",
     "traceback": [
      "\u001b[0;31m---------------------------------------------------------------------------\u001b[0m",
      "\u001b[0;31mRuntimeError\u001b[0m                              Traceback (most recent call last)",
      "\u001b[0;32m/tmp/ipykernel_15/3480825713.py\u001b[0m in \u001b[0;36m<module>\u001b[0;34m\u001b[0m\n\u001b[0;32m----> 1\u001b[0;31m \u001b[0mmap1\u001b[0m\u001b[0;34m.\u001b[0m\u001b[0msave\u001b[0m\u001b[0;34m(\u001b[0m\u001b[0;34m{\u001b[0m\u001b[0;34m}\u001b[0m\u001b[0;34m)\u001b[0m\u001b[0;34m\u001b[0m\u001b[0;34m\u001b[0m\u001b[0m\n\u001b[0m",
      "\u001b[0;32m/opt/conda/lib/python3.8/site-packages/arcgis/widgets/_mapview/_mapview.py\u001b[0m in \u001b[0;36msave\u001b[0;34m(self, item_properties, mode, thumbnail, metadata, owner, folder)\u001b[0m\n\u001b[1;32m   1789\u001b[0m         \u001b[0;32mif\u001b[0m \u001b[0mmode\u001b[0m \u001b[0;34m==\u001b[0m \u001b[0;34m\"2D\"\u001b[0m \u001b[0;32mor\u001b[0m \u001b[0;34m\"webmap\"\u001b[0m \u001b[0;32min\u001b[0m \u001b[0mmode\u001b[0m\u001b[0;34m.\u001b[0m\u001b[0mlower\u001b[0m\u001b[0;34m(\u001b[0m\u001b[0;34m)\u001b[0m\u001b[0;34m:\u001b[0m\u001b[0;34m\u001b[0m\u001b[0;34m\u001b[0m\u001b[0m\n\u001b[1;32m   1790\u001b[0m             \u001b[0mself\u001b[0m\u001b[0;34m.\u001b[0m\u001b[0mmode\u001b[0m \u001b[0;34m=\u001b[0m \u001b[0;34m\"2D\"\u001b[0m\u001b[0;34m\u001b[0m\u001b[0;34m\u001b[0m\u001b[0m\n\u001b[0;32m-> 1791\u001b[0;31m             return self._save_as_webmap(\n\u001b[0m\u001b[1;32m   1792\u001b[0m                 \u001b[0mitem_properties\u001b[0m\u001b[0;34m=\u001b[0m\u001b[0mitem_properties\u001b[0m\u001b[0;34m,\u001b[0m\u001b[0;34m\u001b[0m\u001b[0;34m\u001b[0m\u001b[0m\n\u001b[1;32m   1793\u001b[0m                 \u001b[0mthumbnail\u001b[0m\u001b[0;34m=\u001b[0m\u001b[0mthumbnail\u001b[0m\u001b[0;34m,\u001b[0m\u001b[0;34m\u001b[0m\u001b[0;34m\u001b[0m\u001b[0m\n",
      "\u001b[0;32m/opt/conda/lib/python3.8/site-packages/arcgis/widgets/_mapview/_mapview.py\u001b[0m in \u001b[0;36m_save_as_webmap\u001b[0;34m(self, item_properties, thumbnail, metadata, owner, folder)\u001b[0m\n\u001b[1;32m   1815\u001b[0m \u001b[0;34m\u001b[0m\u001b[0m\n\u001b[1;32m   1816\u001b[0m         \u001b[0mself\u001b[0m\u001b[0;34m.\u001b[0m\u001b[0mmode\u001b[0m \u001b[0;34m=\u001b[0m \u001b[0;34m\"2D\"\u001b[0m\u001b[0;34m\u001b[0m\u001b[0;34m\u001b[0m\u001b[0m\n\u001b[0;32m-> 1817\u001b[0;31m         \u001b[0mself\u001b[0m\u001b[0;34m.\u001b[0m\u001b[0m_check_item_properties\u001b[0m\u001b[0;34m(\u001b[0m\u001b[0mitem_properties\u001b[0m\u001b[0;34m)\u001b[0m\u001b[0;34m\u001b[0m\u001b[0;34m\u001b[0m\u001b[0m\n\u001b[0m\u001b[1;32m   1818\u001b[0m         if (\"basemap\" in self._readonly_webmap_from_js) and (\n\u001b[1;32m   1819\u001b[0m             \u001b[0;34m\"baseMapLayers\"\u001b[0m \u001b[0;32min\u001b[0m \u001b[0mself\u001b[0m\u001b[0;34m.\u001b[0m\u001b[0m_readonly_webmap_from_js\u001b[0m\u001b[0;34m[\u001b[0m\u001b[0;34m\"basemap\"\u001b[0m\u001b[0;34m]\u001b[0m\u001b[0;34m\u001b[0m\u001b[0;34m\u001b[0m\u001b[0m\n",
      "\u001b[0;32m/opt/conda/lib/python3.8/site-packages/arcgis/widgets/_mapview/_mapview.py\u001b[0m in \u001b[0;36m_check_item_properties\u001b[0;34m(self, item_properties)\u001b[0m\n\u001b[1;32m   1934\u001b[0m             \u001b[0;32mor\u001b[0m \u001b[0;34m(\u001b[0m\u001b[0;34m\"tags\"\u001b[0m \u001b[0;32mnot\u001b[0m \u001b[0;32min\u001b[0m \u001b[0mitem_properties\u001b[0m\u001b[0;34m)\u001b[0m\u001b[0;34m\u001b[0m\u001b[0;34m\u001b[0m\u001b[0m\n\u001b[1;32m   1935\u001b[0m         ):\n\u001b[0;32m-> 1936\u001b[0;31m             raise RuntimeError(\n\u001b[0m\u001b[1;32m   1937\u001b[0m                 \u001b[0;34m\"title, snippet and tags are required in \"\u001b[0m \u001b[0;34m\"item_properties dictionary\"\u001b[0m\u001b[0;34m\u001b[0m\u001b[0;34m\u001b[0m\u001b[0m\n\u001b[1;32m   1938\u001b[0m             )\n",
      "\u001b[0;31mRuntimeError\u001b[0m: title, snippet and tags are required in item_properties dictionary"
     ]
    }
   ],
   "source": [
    "map1.save({'title':locationSearch,\n",
    "                             'snippet':'your map',\n",
    "                             'tags':'location'})"
   ]
  },
  {
   "cell_type": "code",
   "execution_count": null,
   "id": "a400f9d8",
   "metadata": {},
   "outputs": [],
   "source": []
  }
 ],
 "metadata": {
  "kernelspec": {
   "display_name": "Python 3 (ipykernel)",
   "language": "python",
   "name": "python3"
  },
  "language_info": {
   "codemirror_mode": {
    "name": "ipython",
    "version": 3
   },
   "file_extension": ".py",
   "mimetype": "text/x-python",
   "name": "python",
   "nbconvert_exporter": "python",
   "pygments_lexer": "ipython3",
   "version": "3.8.5"
  }
 },
 "nbformat": 4,
 "nbformat_minor": 5
}
